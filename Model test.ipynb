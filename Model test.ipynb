{
 "cells": [
  {
   "cell_type": "code",
   "execution_count": 20,
   "metadata": {},
   "outputs": [],
   "source": [
    "import numpy as np\n",
    "import pandas as pd\n",
    "import matplotlib.pyplot as plt\n",
    "#import seaborn as sns\n",
    "import re\n",
    "%matplotlib inline\n"
   ]
  },
  {
   "cell_type": "markdown",
   "metadata": {},
   "source": [
    "# import dataset"
   ]
  },
  {
   "cell_type": "markdown",
   "metadata": {},
   "source": [
    "Can someone please change the csv path to github, I don't know how to do that"
   ]
  },
  {
   "cell_type": "code",
   "execution_count": 21,
   "metadata": {},
   "outputs": [],
   "source": [
    "train = pd.read_csv('train.csv')\n",
    "test = pd.read_csv('test.csv')"
   ]
  },
  {
   "cell_type": "code",
   "execution_count": 27,
   "metadata": {},
   "outputs": [
    {
     "data": {
      "text/html": [
       "<div>\n",
       "<style scoped>\n",
       "    .dataframe tbody tr th:only-of-type {\n",
       "        vertical-align: middle;\n",
       "    }\n",
       "\n",
       "    .dataframe tbody tr th {\n",
       "        vertical-align: top;\n",
       "    }\n",
       "\n",
       "    .dataframe thead th {\n",
       "        text-align: right;\n",
       "    }\n",
       "</style>\n",
       "<table border=\"1\" class=\"dataframe\">\n",
       "  <thead>\n",
       "    <tr style=\"text-align: right;\">\n",
       "      <th></th>\n",
       "      <th>message</th>\n",
       "      <th>tweetid</th>\n",
       "    </tr>\n",
       "  </thead>\n",
       "  <tbody>\n",
       "    <tr>\n",
       "      <th>0</th>\n",
       "      <td>Europe will now be looking to China to make su...</td>\n",
       "      <td>169760</td>\n",
       "    </tr>\n",
       "    <tr>\n",
       "      <th>1</th>\n",
       "      <td>Combine this with the polling of staffers re c...</td>\n",
       "      <td>35326</td>\n",
       "    </tr>\n",
       "    <tr>\n",
       "      <th>2</th>\n",
       "      <td>The scary, unimpeachable evidence that climate...</td>\n",
       "      <td>224985</td>\n",
       "    </tr>\n",
       "    <tr>\n",
       "      <th>3</th>\n",
       "      <td>@Karoli @morgfair @OsborneInk @dailykos \\nPuti...</td>\n",
       "      <td>476263</td>\n",
       "    </tr>\n",
       "    <tr>\n",
       "      <th>4</th>\n",
       "      <td>RT @FakeWillMoore: 'Female orgasms cause globa...</td>\n",
       "      <td>872928</td>\n",
       "    </tr>\n",
       "  </tbody>\n",
       "</table>\n",
       "</div>"
      ],
      "text/plain": [
       "                                             message  tweetid\n",
       "0  Europe will now be looking to China to make su...   169760\n",
       "1  Combine this with the polling of staffers re c...    35326\n",
       "2  The scary, unimpeachable evidence that climate...   224985\n",
       "3  @Karoli @morgfair @OsborneInk @dailykos \\nPuti...   476263\n",
       "4  RT @FakeWillMoore: 'Female orgasms cause globa...   872928"
      ]
     },
     "execution_count": 27,
     "metadata": {},
     "output_type": "execute_result"
    }
   ],
   "source": [
    "test.head()"
   ]
  },
  {
   "cell_type": "code",
   "execution_count": 23,
   "metadata": {},
   "outputs": [
    {
     "data": {
      "text/plain": [
       "array([ 1,  2,  0, -1], dtype=int64)"
      ]
     },
     "execution_count": 23,
     "metadata": {},
     "output_type": "execute_result"
    }
   ],
   "source": [
    "train['sentiment'].unique()\n"
   ]
  },
  {
   "cell_type": "code",
   "execution_count": 24,
   "metadata": {},
   "outputs": [
    {
     "data": {
      "text/plain": [
       "15819"
      ]
     },
     "execution_count": 24,
     "metadata": {},
     "output_type": "execute_result"
    }
   ],
   "source": [
    "train['tweetid'].nunique()"
   ]
  },
  {
   "cell_type": "code",
   "execution_count": 25,
   "metadata": {},
   "outputs": [
    {
     "data": {
      "text/plain": [
       "15819"
      ]
     },
     "execution_count": 25,
     "metadata": {},
     "output_type": "execute_result"
    }
   ],
   "source": [
    "len(train)"
   ]
  },
  {
   "cell_type": "code",
   "execution_count": 26,
   "metadata": {},
   "outputs": [],
   "source": [
    "df =train.drop(['tweetid'],axis = 1)"
   ]
  },
  {
   "cell_type": "code",
   "execution_count": 28,
   "metadata": {},
   "outputs": [
    {
     "data": {
      "text/plain": [
       "\"PolySciMajor EPA chief doesn't think carbon dioxide is main cause of global warming and.. wait, what!? https://t.co/yeLvcEFXkC via @mashable\""
      ]
     },
     "execution_count": 28,
     "metadata": {},
     "output_type": "execute_result"
    }
   ],
   "source": [
    "df['message'][0]"
   ]
  },
  {
   "cell_type": "code",
   "execution_count": 29,
   "metadata": {},
   "outputs": [
    {
     "data": {
      "text/plain": [
       "sentiment    0\n",
       "message      0\n",
       "dtype: int64"
      ]
     },
     "execution_count": 29,
     "metadata": {},
     "output_type": "execute_result"
    }
   ],
   "source": [
    "df.isnull().sum()"
   ]
  },
  {
   "cell_type": "code",
   "execution_count": 30,
   "metadata": {},
   "outputs": [
    {
     "data": {
      "text/plain": [
       " 1    8530\n",
       " 2    3640\n",
       " 0    2353\n",
       "-1    1296\n",
       "Name: sentiment, dtype: int64"
      ]
     },
     "execution_count": 30,
     "metadata": {},
     "output_type": "execute_result"
    }
   ],
   "source": [
    "df['sentiment'].value_counts()"
   ]
  },
  {
   "cell_type": "code",
   "execution_count": 31,
   "metadata": {},
   "outputs": [],
   "source": [
    "from sklearn.model_selection import train_test_split"
   ]
  },
  {
   "cell_type": "code",
   "execution_count": 32,
   "metadata": {},
   "outputs": [],
   "source": [
    "X = df['message']\n",
    "y = df['sentiment']"
   ]
  },
  {
   "cell_type": "code",
   "execution_count": 33,
   "metadata": {},
   "outputs": [],
   "source": [
    "X_train, X_test, y_train, y_test=train_test_split(X,y,test_size=0.33,random_state=42)"
   ]
  },
  {
   "cell_type": "code",
   "execution_count": 34,
   "metadata": {},
   "outputs": [],
   "source": [
    "# count vectorization which builds a dictionary of features\n",
    "from sklearn.feature_extraction.text import CountVectorizer"
   ]
  },
  {
   "cell_type": "code",
   "execution_count": 35,
   "metadata": {},
   "outputs": [],
   "source": [
    "count_vect = CountVectorizer()"
   ]
  },
  {
   "cell_type": "code",
   "execution_count": 36,
   "metadata": {},
   "outputs": [
    {
     "data": {
      "text/plain": [
       "\"PolySciMajor EPA chief doesn't think carbon dioxide is main cause of global warming and.. wait, what!? https://t.co/yeLvcEFXkC via @mashable\""
      ]
     },
     "execution_count": 36,
     "metadata": {},
     "output_type": "execute_result"
    }
   ],
   "source": [
    "X[0]"
   ]
  },
  {
   "cell_type": "code",
   "execution_count": 37,
   "metadata": {},
   "outputs": [],
   "source": [
    "X_train_counts = count_vect.fit_transform(X_train)"
   ]
  },
  {
   "cell_type": "code",
   "execution_count": 38,
   "metadata": {},
   "outputs": [
    {
     "data": {
      "text/plain": [
       "(10598, 23895)"
      ]
     },
     "execution_count": 38,
     "metadata": {},
     "output_type": "execute_result"
    }
   ],
   "source": [
    "X_train_counts.shape"
   ]
  },
  {
   "cell_type": "code",
   "execution_count": 39,
   "metadata": {},
   "outputs": [],
   "source": [
    "from sklearn.feature_extraction.text import TfidfTransformer"
   ]
  },
  {
   "cell_type": "code",
   "execution_count": 40,
   "metadata": {},
   "outputs": [],
   "source": [
    "tfidf_transformer = TfidfTransformer()"
   ]
  },
  {
   "cell_type": "code",
   "execution_count": 41,
   "metadata": {},
   "outputs": [],
   "source": [
    "X_train_tfidf = tfidf_transformer.fit_transform(X_train_counts)"
   ]
  },
  {
   "cell_type": "code",
   "execution_count": 42,
   "metadata": {},
   "outputs": [
    {
     "data": {
      "text/plain": [
       "(10598, 23895)"
      ]
     },
     "execution_count": 42,
     "metadata": {},
     "output_type": "execute_result"
    }
   ],
   "source": [
    "X_train_tfidf.shape"
   ]
  },
  {
   "cell_type": "code",
   "execution_count": 43,
   "metadata": {},
   "outputs": [],
   "source": [
    "from sklearn.feature_extraction.text import TfidfVectorizer\n",
    "vectorizer = TfidfVectorizer()\n",
    "X_train_tfidf = vectorizer.fit_transform(X_train)"
   ]
  },
  {
   "cell_type": "code",
   "execution_count": 44,
   "metadata": {},
   "outputs": [
    {
     "data": {
      "text/plain": [
       "LinearSVC(C=1.0, class_weight=None, dual=True, fit_intercept=True,\n",
       "     intercept_scaling=1, loss='squared_hinge', max_iter=1000,\n",
       "     multi_class='ovr', penalty='l2', random_state=None, tol=0.0001,\n",
       "     verbose=0)"
      ]
     },
     "execution_count": 44,
     "metadata": {},
     "output_type": "execute_result"
    }
   ],
   "source": [
    "from sklearn.svm import LinearSVC\n",
    "clf = LinearSVC()\n",
    "clf.fit(X_train_tfidf,y_train)"
   ]
  },
  {
   "cell_type": "code",
   "execution_count": 45,
   "metadata": {},
   "outputs": [
    {
     "data": {
      "text/plain": [
       "Pipeline(memory=None,\n",
       "     steps=[('tfidf', TfidfVectorizer(analyzer='word', binary=False, decode_error='strict',\n",
       "        dtype=<class 'numpy.float64'>, encoding='utf-8', input='content',\n",
       "        lowercase=True, max_df=1.0, max_features=None, min_df=1,\n",
       "        ngram_range=(1, 1), norm='l2', preprocessor=None, smooth_idf=True,...ax_iter=1000,\n",
       "     multi_class='ovr', penalty='l2', random_state=None, tol=0.0001,\n",
       "     verbose=0))])"
      ]
     },
     "execution_count": 45,
     "metadata": {},
     "output_type": "execute_result"
    }
   ],
   "source": [
    "from sklearn.pipeline import Pipeline\n",
    "text_clf = Pipeline([('tfidf',TfidfVectorizer()),('clf',LinearSVC())])\n",
    "text_clf.fit(X_train,y_train)"
   ]
  },
  {
   "cell_type": "code",
   "execution_count": 49,
   "metadata": {},
   "outputs": [],
   "source": [
    "predictions = text_clf.predict(test['message'])"
   ]
  },
  {
   "cell_type": "code",
   "execution_count": null,
   "metadata": {},
   "outputs": [],
   "source": []
  },
  {
   "cell_type": "code",
   "execution_count": 50,
   "metadata": {},
   "outputs": [
    {
     "data": {
      "text/plain": [
       "array([1, 1, 1, ..., 2, 0, 1], dtype=int64)"
      ]
     },
     "execution_count": 50,
     "metadata": {},
     "output_type": "execute_result"
    }
   ],
   "source": [
    "predictions"
   ]
  },
  {
   "cell_type": "code",
   "execution_count": 52,
   "metadata": {},
   "outputs": [],
   "source": [
    "results = pd.DataFrame()"
   ]
  },
  {
   "cell_type": "code",
   "execution_count": 53,
   "metadata": {},
   "outputs": [],
   "source": [
    "results['tweetid'] = test['tweetid']\n",
    "results['sentiment'] = predictions\n",
    "results.reset_index(drop=True,inplace=True)"
   ]
  },
  {
   "cell_type": "code",
   "execution_count": 54,
   "metadata": {},
   "outputs": [
    {
     "data": {
      "text/html": [
       "<div>\n",
       "<style scoped>\n",
       "    .dataframe tbody tr th:only-of-type {\n",
       "        vertical-align: middle;\n",
       "    }\n",
       "\n",
       "    .dataframe tbody tr th {\n",
       "        vertical-align: top;\n",
       "    }\n",
       "\n",
       "    .dataframe thead th {\n",
       "        text-align: right;\n",
       "    }\n",
       "</style>\n",
       "<table border=\"1\" class=\"dataframe\">\n",
       "  <thead>\n",
       "    <tr style=\"text-align: right;\">\n",
       "      <th></th>\n",
       "      <th>tweetid</th>\n",
       "      <th>sentiment</th>\n",
       "    </tr>\n",
       "  </thead>\n",
       "  <tbody>\n",
       "    <tr>\n",
       "      <th>0</th>\n",
       "      <td>169760</td>\n",
       "      <td>1</td>\n",
       "    </tr>\n",
       "    <tr>\n",
       "      <th>1</th>\n",
       "      <td>35326</td>\n",
       "      <td>1</td>\n",
       "    </tr>\n",
       "    <tr>\n",
       "      <th>2</th>\n",
       "      <td>224985</td>\n",
       "      <td>1</td>\n",
       "    </tr>\n",
       "    <tr>\n",
       "      <th>3</th>\n",
       "      <td>476263</td>\n",
       "      <td>1</td>\n",
       "    </tr>\n",
       "    <tr>\n",
       "      <th>4</th>\n",
       "      <td>872928</td>\n",
       "      <td>0</td>\n",
       "    </tr>\n",
       "  </tbody>\n",
       "</table>\n",
       "</div>"
      ],
      "text/plain": [
       "   tweetid  sentiment\n",
       "0   169760          1\n",
       "1    35326          1\n",
       "2   224985          1\n",
       "3   476263          1\n",
       "4   872928          0"
      ]
     },
     "execution_count": 54,
     "metadata": {},
     "output_type": "execute_result"
    }
   ],
   "source": [
    "results.head()"
   ]
  },
  {
   "cell_type": "code",
   "execution_count": 57,
   "metadata": {},
   "outputs": [
    {
     "data": {
      "text/plain": [
       "10546"
      ]
     },
     "execution_count": 57,
     "metadata": {},
     "output_type": "execute_result"
    }
   ],
   "source": [
    "results.to_csv(r\"results1.csv\",sep=',',index=False)\n",
    "len(results)\n"
   ]
  },
  {
   "cell_type": "markdown",
   "metadata": {},
   "source": [
    "# Note these metrics are based on X_test"
   ]
  },
  {
   "cell_type": "code",
   "execution_count": 34,
   "metadata": {},
   "outputs": [
    {
     "name": "stdout",
     "output_type": "stream",
     "text": [
      "[[ 198   50  157   23]\n",
      " [  28  319  319   71]\n",
      " [  38  125 2439  259]\n",
      " [   4   23  214  954]]\n"
     ]
    }
   ],
   "source": [
    "from sklearn.metrics import confusion_matrix,classification_report\n",
    "print(confusion_matrix(y_test,predictions))"
   ]
  },
  {
   "cell_type": "code",
   "execution_count": 35,
   "metadata": {},
   "outputs": [
    {
     "name": "stdout",
     "output_type": "stream",
     "text": [
      "              precision    recall  f1-score   support\n",
      "\n",
      "          -1       0.74      0.46      0.57       428\n",
      "           0       0.62      0.43      0.51       737\n",
      "           1       0.78      0.85      0.81      2861\n",
      "           2       0.73      0.80      0.76      1195\n",
      "\n",
      "   micro avg       0.75      0.75      0.75      5221\n",
      "   macro avg       0.72      0.64      0.66      5221\n",
      "weighted avg       0.74      0.75      0.74      5221\n",
      "\n"
     ]
    }
   ],
   "source": [
    "print(classification_report(y_test,predictions))"
   ]
  },
  {
   "cell_type": "code",
   "execution_count": 36,
   "metadata": {},
   "outputs": [
    {
     "data": {
      "text/plain": [
       "0.748898678414097"
      ]
     },
     "execution_count": 36,
     "metadata": {},
     "output_type": "execute_result"
    }
   ],
   "source": [
    "from sklearn import metrics\n",
    "metrics.accuracy_score(y_test,predictions)"
   ]
  },
  {
   "cell_type": "code",
   "execution_count": 44,
   "metadata": {},
   "outputs": [
    {
     "data": {
      "text/html": [
       "<div>\n",
       "<style scoped>\n",
       "    .dataframe tbody tr th:only-of-type {\n",
       "        vertical-align: middle;\n",
       "    }\n",
       "\n",
       "    .dataframe tbody tr th {\n",
       "        vertical-align: top;\n",
       "    }\n",
       "\n",
       "    .dataframe thead th {\n",
       "        text-align: right;\n",
       "    }\n",
       "</style>\n",
       "<table border=\"1\" class=\"dataframe\">\n",
       "  <thead>\n",
       "    <tr style=\"text-align: right;\">\n",
       "      <th></th>\n",
       "      <th>sentiment</th>\n",
       "      <th>message</th>\n",
       "      <th>tweetid</th>\n",
       "    </tr>\n",
       "  </thead>\n",
       "  <tbody>\n",
       "    <tr>\n",
       "      <th>28</th>\n",
       "      <td>-1</td>\n",
       "      <td>Sally Kohn’s latest evidence of climate change...</td>\n",
       "      <td>355491</td>\n",
       "    </tr>\n",
       "    <tr>\n",
       "      <th>46</th>\n",
       "      <td>-1</td>\n",
       "      <td>@realDonaldTrump Carbon Tax is a Globalist ide...</td>\n",
       "      <td>61141</td>\n",
       "    </tr>\n",
       "    <tr>\n",
       "      <th>48</th>\n",
       "      <td>-1</td>\n",
       "      <td>RT @SteveSGoddard: We had winds close to 100 M...</td>\n",
       "      <td>719523</td>\n",
       "    </tr>\n",
       "    <tr>\n",
       "      <th>56</th>\n",
       "      <td>-1</td>\n",
       "      <td>@MissLizzyNJ lmao 😂 snowflakes ❄️ complaining ...</td>\n",
       "      <td>911385</td>\n",
       "    </tr>\n",
       "    <tr>\n",
       "      <th>57</th>\n",
       "      <td>-1</td>\n",
       "      <td>RT @Dawn2334Dawn: This is ONE of Arnold Schwar...</td>\n",
       "      <td>768263</td>\n",
       "    </tr>\n",
       "    <tr>\n",
       "      <th>107</th>\n",
       "      <td>-1</td>\n",
       "      <td>RT @Fruitloopian: Why is there snow in March i...</td>\n",
       "      <td>798585</td>\n",
       "    </tr>\n",
       "    <tr>\n",
       "      <th>113</th>\n",
       "      <td>-1</td>\n",
       "      <td>can someone pls explain to me why it's -37 in ...</td>\n",
       "      <td>337974</td>\n",
       "    </tr>\n",
       "    <tr>\n",
       "      <th>116</th>\n",
       "      <td>-1</td>\n",
       "      <td>Explain that my global warming advocates. http...</td>\n",
       "      <td>472265</td>\n",
       "    </tr>\n",
       "    <tr>\n",
       "      <th>121</th>\n",
       "      <td>-1</td>\n",
       "      <td>@TomiLahren kinda funny the professors talk sh...</td>\n",
       "      <td>740194</td>\n",
       "    </tr>\n",
       "    <tr>\n",
       "      <th>129</th>\n",
       "      <td>-1</td>\n",
       "      <td>RT @signordal: New global warming study is ter...</td>\n",
       "      <td>473664</td>\n",
       "    </tr>\n",
       "    <tr>\n",
       "      <th>147</th>\n",
       "      <td>-1</td>\n",
       "      <td>@CBSNews You're not going to get away with thi...</td>\n",
       "      <td>621536</td>\n",
       "    </tr>\n",
       "    <tr>\n",
       "      <th>149</th>\n",
       "      <td>-1</td>\n",
       "      <td>RT @CharlieDaniels: I'm not worried about glob...</td>\n",
       "      <td>565424</td>\n",
       "    </tr>\n",
       "    <tr>\n",
       "      <th>164</th>\n",
       "      <td>-1</td>\n",
       "      <td>global warming is a hoax perpetrated by the ch...</td>\n",
       "      <td>4935</td>\n",
       "    </tr>\n",
       "    <tr>\n",
       "      <th>176</th>\n",
       "      <td>-1</td>\n",
       "      <td>RT @Carbongate: Physicist - CO2 does not cause...</td>\n",
       "      <td>809373</td>\n",
       "    </tr>\n",
       "    <tr>\n",
       "      <th>181</th>\n",
       "      <td>-1</td>\n",
       "      <td>Agreed! Man-made climate change is a man-made ...</td>\n",
       "      <td>245892</td>\n",
       "    </tr>\n",
       "    <tr>\n",
       "      <th>185</th>\n",
       "      <td>-1</td>\n",
       "      <td>RT @tamorley: @ZekeJMiller But why a carbon ta...</td>\n",
       "      <td>453052</td>\n",
       "    </tr>\n",
       "    <tr>\n",
       "      <th>195</th>\n",
       "      <td>-1</td>\n",
       "      <td>RT @Mike_Beacham: Fed scientist cooked climate...</td>\n",
       "      <td>687404</td>\n",
       "    </tr>\n",
       "    <tr>\n",
       "      <th>202</th>\n",
       "      <td>-1</td>\n",
       "      <td>RT @CounterMoonbat: The people who predicted p...</td>\n",
       "      <td>479445</td>\n",
       "    </tr>\n",
       "    <tr>\n",
       "      <th>227</th>\n",
       "      <td>-1</td>\n",
       "      <td>@zrastall17 climate change is #fakenews</td>\n",
       "      <td>3014</td>\n",
       "    </tr>\n",
       "    <tr>\n",
       "      <th>229</th>\n",
       "      <td>-1</td>\n",
       "      <td>RT @MR_BREXIT: Good news that @realDonaldTrump...</td>\n",
       "      <td>242418</td>\n",
       "    </tr>\n",
       "    <tr>\n",
       "      <th>252</th>\n",
       "      <td>-1</td>\n",
       "      <td>I was thinking the same thing. Same goes with ...</td>\n",
       "      <td>301923</td>\n",
       "    </tr>\n",
       "    <tr>\n",
       "      <th>258</th>\n",
       "      <td>-1</td>\n",
       "      <td>RT @Uniocracy: They'll tell you theyre doing i...</td>\n",
       "      <td>529327</td>\n",
       "    </tr>\n",
       "    <tr>\n",
       "      <th>262</th>\n",
       "      <td>-1</td>\n",
       "      <td>RT @newsfakenews: TODD STARNES: Hey NPR — Take...</td>\n",
       "      <td>120315</td>\n",
       "    </tr>\n",
       "    <tr>\n",
       "      <th>264</th>\n",
       "      <td>-1</td>\n",
       "      <td>@NobamaDotCom @LibbyRafferty @BIZPACReview Fun...</td>\n",
       "      <td>49204</td>\n",
       "    </tr>\n",
       "    <tr>\n",
       "      <th>269</th>\n",
       "      <td>-1</td>\n",
       "      <td>RT @CounterMoonbat: The people who predicted p...</td>\n",
       "      <td>376353</td>\n",
       "    </tr>\n",
       "    <tr>\n",
       "      <th>277</th>\n",
       "      <td>-1</td>\n",
       "      <td>RT @realDonaldTrump: The concept of global war...</td>\n",
       "      <td>950779</td>\n",
       "    </tr>\n",
       "    <tr>\n",
       "      <th>279</th>\n",
       "      <td>-1</td>\n",
       "      <td>Natural climate change wins man-made climate c...</td>\n",
       "      <td>716256</td>\n",
       "    </tr>\n",
       "    <tr>\n",
       "      <th>283</th>\n",
       "      <td>-1</td>\n",
       "      <td>RT @HarmlessYardDog: 21 kids aged 9 to 20 are ...</td>\n",
       "      <td>684619</td>\n",
       "    </tr>\n",
       "    <tr>\n",
       "      <th>320</th>\n",
       "      <td>-1</td>\n",
       "      <td>Selling global warming as scientific vs govern...</td>\n",
       "      <td>126568</td>\n",
       "    </tr>\n",
       "    <tr>\n",
       "      <th>323</th>\n",
       "      <td>-1</td>\n",
       "      <td>@sallykohn They're related when part of a larg...</td>\n",
       "      <td>802130</td>\n",
       "    </tr>\n",
       "    <tr>\n",
       "      <th>...</th>\n",
       "      <td>...</td>\n",
       "      <td>...</td>\n",
       "      <td>...</td>\n",
       "    </tr>\n",
       "    <tr>\n",
       "      <th>15361</th>\n",
       "      <td>-1</td>\n",
       "      <td>RT @realDonaldTrump: It's freezing outside, wh...</td>\n",
       "      <td>243511</td>\n",
       "    </tr>\n",
       "    <tr>\n",
       "      <th>15362</th>\n",
       "      <td>-1</td>\n",
       "      <td>RT @peddoc63: This is what 'environmentalists'...</td>\n",
       "      <td>631021</td>\n",
       "    </tr>\n",
       "    <tr>\n",
       "      <th>15374</th>\n",
       "      <td>-1</td>\n",
       "      <td>RT @RealJamesWoods: Federal scientist cooked c...</td>\n",
       "      <td>754803</td>\n",
       "    </tr>\n",
       "    <tr>\n",
       "      <th>15399</th>\n",
       "      <td>-1</td>\n",
       "      <td>The real problem is not global warming but glo...</td>\n",
       "      <td>513561</td>\n",
       "    </tr>\n",
       "    <tr>\n",
       "      <th>15417</th>\n",
       "      <td>-1</td>\n",
       "      <td>RT @FoundinNV: John Kerry lands in Antarctica,...</td>\n",
       "      <td>493648</td>\n",
       "    </tr>\n",
       "    <tr>\n",
       "      <th>15421</th>\n",
       "      <td>-1</td>\n",
       "      <td>@ninaspringle @JimHarris @ChristineMilne \\n\\nB...</td>\n",
       "      <td>508898</td>\n",
       "    </tr>\n",
       "    <tr>\n",
       "      <th>15431</th>\n",
       "      <td>-1</td>\n",
       "      <td>The @Guardian's 4th mention of 'global warming...</td>\n",
       "      <td>578200</td>\n",
       "    </tr>\n",
       "    <tr>\n",
       "      <th>15438</th>\n",
       "      <td>-1</td>\n",
       "      <td>I see an unholy alliance between PP and climat...</td>\n",
       "      <td>852787</td>\n",
       "    </tr>\n",
       "    <tr>\n",
       "      <th>15442</th>\n",
       "      <td>-1</td>\n",
       "      <td>@murrayjohnsonjr @AstroKatie @KetanJ0 u must n...</td>\n",
       "      <td>926229</td>\n",
       "    </tr>\n",
       "    <tr>\n",
       "      <th>15460</th>\n",
       "      <td>-1</td>\n",
       "      <td>Science-fiction personality preaches a fearful...</td>\n",
       "      <td>726028</td>\n",
       "    </tr>\n",
       "    <tr>\n",
       "      <th>15474</th>\n",
       "      <td>-1</td>\n",
       "      <td>RT @USFreedomArmy: Can anyone say 'Man-made gl...</td>\n",
       "      <td>1422</td>\n",
       "    </tr>\n",
       "    <tr>\n",
       "      <th>15509</th>\n",
       "      <td>-1</td>\n",
       "      <td>Liberals changed the term 'global warming' to ...</td>\n",
       "      <td>841847</td>\n",
       "    </tr>\n",
       "    <tr>\n",
       "      <th>15510</th>\n",
       "      <td>-1</td>\n",
       "      <td>@greenpeaceusa hey dumbfucks climate change is...</td>\n",
       "      <td>205844</td>\n",
       "    </tr>\n",
       "    <tr>\n",
       "      <th>15520</th>\n",
       "      <td>-1</td>\n",
       "      <td>RT @hrkbenowen: Tucker Carlson obliterates lef...</td>\n",
       "      <td>329497</td>\n",
       "    </tr>\n",
       "    <tr>\n",
       "      <th>15568</th>\n",
       "      <td>-1</td>\n",
       "      <td>RT @realDonaldTrump: It's freezing outside, wh...</td>\n",
       "      <td>230157</td>\n",
       "    </tr>\n",
       "    <tr>\n",
       "      <th>15608</th>\n",
       "      <td>-1</td>\n",
       "      <td>RT @wrmead: By focusing on climate change, the...</td>\n",
       "      <td>548220</td>\n",
       "    </tr>\n",
       "    <tr>\n",
       "      <th>15618</th>\n",
       "      <td>-1</td>\n",
       "      <td>@DanaHoule But climate change is a Chinese hoax.</td>\n",
       "      <td>625660</td>\n",
       "    </tr>\n",
       "    <tr>\n",
       "      <th>15633</th>\n",
       "      <td>-1</td>\n",
       "      <td>@DineshDSouza @cenkuygur I like how it went fr...</td>\n",
       "      <td>912594</td>\n",
       "    </tr>\n",
       "    <tr>\n",
       "      <th>15644</th>\n",
       "      <td>-1</td>\n",
       "      <td>RT @murfrw2016: Gore is scamming more money fr...</td>\n",
       "      <td>497630</td>\n",
       "    </tr>\n",
       "    <tr>\n",
       "      <th>15647</th>\n",
       "      <td>-1</td>\n",
       "      <td>Mansbridge implies link between big storm in A...</td>\n",
       "      <td>230309</td>\n",
       "    </tr>\n",
       "    <tr>\n",
       "      <th>15662</th>\n",
       "      <td>-1</td>\n",
       "      <td>@CarbonWA why do you think voters in a left wi...</td>\n",
       "      <td>911566</td>\n",
       "    </tr>\n",
       "    <tr>\n",
       "      <th>15683</th>\n",
       "      <td>-1</td>\n",
       "      <td>Will the sun put the brakes on global warming?...</td>\n",
       "      <td>645251</td>\n",
       "    </tr>\n",
       "    <tr>\n",
       "      <th>15688</th>\n",
       "      <td>-1</td>\n",
       "      <td>@BSwinneyScout @TysonKFAN. No no no. Come on S...</td>\n",
       "      <td>528738</td>\n",
       "    </tr>\n",
       "    <tr>\n",
       "      <th>15702</th>\n",
       "      <td>-1</td>\n",
       "      <td>RT @RadioFreeTom: This is why I avoid climate ...</td>\n",
       "      <td>625549</td>\n",
       "    </tr>\n",
       "    <tr>\n",
       "      <th>15703</th>\n",
       "      <td>-1</td>\n",
       "      <td>Libs are all for science proving climate chang...</td>\n",
       "      <td>774648</td>\n",
       "    </tr>\n",
       "    <tr>\n",
       "      <th>15704</th>\n",
       "      <td>-1</td>\n",
       "      <td>RT @dbongino: We're at the point w/the delusio...</td>\n",
       "      <td>890582</td>\n",
       "    </tr>\n",
       "    <tr>\n",
       "      <th>15705</th>\n",
       "      <td>-1</td>\n",
       "      <td>RT @joshdcaplan: Al Gore admits Paris Accord w...</td>\n",
       "      <td>380307</td>\n",
       "    </tr>\n",
       "    <tr>\n",
       "      <th>15711</th>\n",
       "      <td>-1</td>\n",
       "      <td>RT @JoshNoneYaBiz: Funny the same people who b...</td>\n",
       "      <td>390339</td>\n",
       "    </tr>\n",
       "    <tr>\n",
       "      <th>15806</th>\n",
       "      <td>-1</td>\n",
       "      <td>RT @HerberMp: @sness5561_ness Al Gore is a idi...</td>\n",
       "      <td>213863</td>\n",
       "    </tr>\n",
       "    <tr>\n",
       "      <th>15817</th>\n",
       "      <td>-1</td>\n",
       "      <td>RT @sara8smiles: Hey liberals the climate chan...</td>\n",
       "      <td>819732</td>\n",
       "    </tr>\n",
       "  </tbody>\n",
       "</table>\n",
       "<p>1296 rows × 3 columns</p>\n",
       "</div>"
      ],
      "text/plain": [
       "       sentiment                                            message  tweetid\n",
       "28            -1  Sally Kohn’s latest evidence of climate change...   355491\n",
       "46            -1  @realDonaldTrump Carbon Tax is a Globalist ide...    61141\n",
       "48            -1  RT @SteveSGoddard: We had winds close to 100 M...   719523\n",
       "56            -1  @MissLizzyNJ lmao 😂 snowflakes ❄️ complaining ...   911385\n",
       "57            -1  RT @Dawn2334Dawn: This is ONE of Arnold Schwar...   768263\n",
       "107           -1  RT @Fruitloopian: Why is there snow in March i...   798585\n",
       "113           -1  can someone pls explain to me why it's -37 in ...   337974\n",
       "116           -1  Explain that my global warming advocates. http...   472265\n",
       "121           -1  @TomiLahren kinda funny the professors talk sh...   740194\n",
       "129           -1  RT @signordal: New global warming study is ter...   473664\n",
       "147           -1  @CBSNews You're not going to get away with thi...   621536\n",
       "149           -1  RT @CharlieDaniels: I'm not worried about glob...   565424\n",
       "164           -1  global warming is a hoax perpetrated by the ch...     4935\n",
       "176           -1  RT @Carbongate: Physicist - CO2 does not cause...   809373\n",
       "181           -1  Agreed! Man-made climate change is a man-made ...   245892\n",
       "185           -1  RT @tamorley: @ZekeJMiller But why a carbon ta...   453052\n",
       "195           -1  RT @Mike_Beacham: Fed scientist cooked climate...   687404\n",
       "202           -1  RT @CounterMoonbat: The people who predicted p...   479445\n",
       "227           -1            @zrastall17 climate change is #fakenews     3014\n",
       "229           -1  RT @MR_BREXIT: Good news that @realDonaldTrump...   242418\n",
       "252           -1  I was thinking the same thing. Same goes with ...   301923\n",
       "258           -1  RT @Uniocracy: They'll tell you theyre doing i...   529327\n",
       "262           -1  RT @newsfakenews: TODD STARNES: Hey NPR — Take...   120315\n",
       "264           -1  @NobamaDotCom @LibbyRafferty @BIZPACReview Fun...    49204\n",
       "269           -1  RT @CounterMoonbat: The people who predicted p...   376353\n",
       "277           -1  RT @realDonaldTrump: The concept of global war...   950779\n",
       "279           -1  Natural climate change wins man-made climate c...   716256\n",
       "283           -1  RT @HarmlessYardDog: 21 kids aged 9 to 20 are ...   684619\n",
       "320           -1  Selling global warming as scientific vs govern...   126568\n",
       "323           -1  @sallykohn They're related when part of a larg...   802130\n",
       "...          ...                                                ...      ...\n",
       "15361         -1  RT @realDonaldTrump: It's freezing outside, wh...   243511\n",
       "15362         -1  RT @peddoc63: This is what 'environmentalists'...   631021\n",
       "15374         -1  RT @RealJamesWoods: Federal scientist cooked c...   754803\n",
       "15399         -1  The real problem is not global warming but glo...   513561\n",
       "15417         -1  RT @FoundinNV: John Kerry lands in Antarctica,...   493648\n",
       "15421         -1  @ninaspringle @JimHarris @ChristineMilne \\n\\nB...   508898\n",
       "15431         -1  The @Guardian's 4th mention of 'global warming...   578200\n",
       "15438         -1  I see an unholy alliance between PP and climat...   852787\n",
       "15442         -1  @murrayjohnsonjr @AstroKatie @KetanJ0 u must n...   926229\n",
       "15460         -1  Science-fiction personality preaches a fearful...   726028\n",
       "15474         -1  RT @USFreedomArmy: Can anyone say 'Man-made gl...     1422\n",
       "15509         -1  Liberals changed the term 'global warming' to ...   841847\n",
       "15510         -1  @greenpeaceusa hey dumbfucks climate change is...   205844\n",
       "15520         -1  RT @hrkbenowen: Tucker Carlson obliterates lef...   329497\n",
       "15568         -1  RT @realDonaldTrump: It's freezing outside, wh...   230157\n",
       "15608         -1  RT @wrmead: By focusing on climate change, the...   548220\n",
       "15618         -1   @DanaHoule But climate change is a Chinese hoax.   625660\n",
       "15633         -1  @DineshDSouza @cenkuygur I like how it went fr...   912594\n",
       "15644         -1  RT @murfrw2016: Gore is scamming more money fr...   497630\n",
       "15647         -1  Mansbridge implies link between big storm in A...   230309\n",
       "15662         -1  @CarbonWA why do you think voters in a left wi...   911566\n",
       "15683         -1  Will the sun put the brakes on global warming?...   645251\n",
       "15688         -1  @BSwinneyScout @TysonKFAN. No no no. Come on S...   528738\n",
       "15702         -1  RT @RadioFreeTom: This is why I avoid climate ...   625549\n",
       "15703         -1  Libs are all for science proving climate chang...   774648\n",
       "15704         -1  RT @dbongino: We're at the point w/the delusio...   890582\n",
       "15705         -1  RT @joshdcaplan: Al Gore admits Paris Accord w...   380307\n",
       "15711         -1  RT @JoshNoneYaBiz: Funny the same people who b...   390339\n",
       "15806         -1  RT @HerberMp: @sness5561_ness Al Gore is a idi...   213863\n",
       "15817         -1  RT @sara8smiles: Hey liberals the climate chan...   819732\n",
       "\n",
       "[1296 rows x 3 columns]"
      ]
     },
     "execution_count": 44,
     "metadata": {},
     "output_type": "execute_result"
    }
   ],
   "source": [
    "train[(train['sentiment'] == -1)]"
   ]
  },
  {
   "cell_type": "markdown",
   "metadata": {},
   "source": [
    "Testing the sentiment analysis on own personal string"
   ]
  },
  {
   "cell_type": "code",
   "execution_count": 52,
   "metadata": {},
   "outputs": [
    {
     "data": {
      "text/plain": [
       "array([1], dtype=int64)"
      ]
     },
     "execution_count": 52,
     "metadata": {},
     "output_type": "execute_result"
    }
   ],
   "source": [
    "text_clf.predict(['Stop tweeting about things that do not exist #climatechange'])"
   ]
  },
  {
   "cell_type": "markdown",
   "metadata": {},
   "source": [
    "# trying the logistic regression model"
   ]
  },
  {
   "cell_type": "code",
   "execution_count": 4,
   "metadata": {},
   "outputs": [],
   "source": [
    "# Remove urls\n",
    "pattern_url = r'http[s]?://(?:[A-Za-z]|[0-9]|[$-_@.&+]|[!*\\(\\),]|(?:%[0-9A-Fa-f][0-9A-Fa-f]))+'\n",
    "subs_url = r'url-web'\n",
    "df['message'] = df['message'].replace(to_replace = pattern_url, value = subs_url, regex = True)"
   ]
  },
  {
   "cell_type": "code",
   "execution_count": 5,
   "metadata": {},
   "outputs": [],
   "source": [
    "# Make lower case\n",
    "df['message'] = df['message'].str.lower()"
   ]
  },
  {
   "cell_type": "code",
   "execution_count": 6,
   "metadata": {},
   "outputs": [],
   "source": [
    "from sklearn.feature_extraction.text import CountVectorizer"
   ]
  },
  {
   "cell_type": "code",
   "execution_count": 7,
   "metadata": {},
   "outputs": [],
   "source": [
    "# Let's use the count vectorizer with its default hyperparameters\n",
    "vect = CountVectorizer()\n",
    "X_count = vect.fit_transform(df['message'])"
   ]
  },
  {
   "cell_type": "code",
   "execution_count": 8,
   "metadata": {},
   "outputs": [],
   "source": [
    "X = X_count.toarray()"
   ]
  },
  {
   "cell_type": "code",
   "execution_count": 64,
   "metadata": {},
   "outputs": [],
   "source": [
    "from sklearn.linear_model import LogisticRegression"
   ]
  },
  {
   "cell_type": "code",
   "execution_count": 65,
   "metadata": {},
   "outputs": [],
   "source": [
    "X_train, X_test, y_train, y_test = train_test_split(X, y, test_size=0.2, random_state=27)"
   ]
  },
  {
   "cell_type": "code",
   "execution_count": 66,
   "metadata": {},
   "outputs": [],
   "source": [
    "# Here 'ovr' indicates that we have selected our One-vs-Rest strategy. \n",
    "logreg = LogisticRegression(multi_class='ovr')"
   ]
  },
  {
   "cell_type": "code",
   "execution_count": 67,
   "metadata": {},
   "outputs": [
    {
     "name": "stderr",
     "output_type": "stream",
     "text": [
      "C:\\Users\\admin\\anaconda3\\envs\\nlp_course\\lib\\site-packages\\sklearn\\linear_model\\logistic.py:433: FutureWarning: Default solver will be changed to 'lbfgs' in 0.22. Specify a solver to silence this warning.\n",
      "  FutureWarning)\n"
     ]
    },
    {
     "data": {
      "text/plain": [
       "LogisticRegression(C=1.0, class_weight=None, dual=False, fit_intercept=True,\n",
       "          intercept_scaling=1, max_iter=100, multi_class='ovr',\n",
       "          n_jobs=None, penalty='l2', random_state=None, solver='warn',\n",
       "          tol=0.0001, verbose=0, warm_start=False)"
      ]
     },
     "execution_count": 67,
     "metadata": {},
     "output_type": "execute_result"
    }
   ],
   "source": [
    "logreg.fit(X_train, y_train)"
   ]
  },
  {
   "cell_type": "code",
   "execution_count": 68,
   "metadata": {},
   "outputs": [],
   "source": [
    "# Generate predictions\n",
    "y_pred_test = logreg.predict(X_test)"
   ]
  },
  {
   "cell_type": "code",
   "execution_count": 69,
   "metadata": {},
   "outputs": [
    {
     "data": {
      "text/plain": [
       "array([ 2,  2,  2, ...,  1,  1, -1], dtype=int64)"
      ]
     },
     "execution_count": 69,
     "metadata": {},
     "output_type": "execute_result"
    }
   ],
   "source": [
    "y_pred_test"
   ]
  },
  {
   "cell_type": "code",
   "execution_count": 71,
   "metadata": {},
   "outputs": [
    {
     "name": "stdout",
     "output_type": "stream",
     "text": [
      "[[ 115   33   81   17]\n",
      " [  23  202  186   44]\n",
      " [  30   88 1468  144]\n",
      " [   3   19  123  588]]\n"
     ]
    }
   ],
   "source": [
    "from sklearn.metrics import confusion_matrix,classification_report\n",
    "print(confusion_matrix(y_test,y_pred_test))"
   ]
  },
  {
   "cell_type": "code",
   "execution_count": 73,
   "metadata": {},
   "outputs": [
    {
     "name": "stdout",
     "output_type": "stream",
     "text": [
      "              precision    recall  f1-score   support\n",
      "\n",
      "          -1       0.67      0.47      0.55       246\n",
      "           0       0.59      0.44      0.51       455\n",
      "           1       0.79      0.85      0.82      1730\n",
      "           2       0.74      0.80      0.77       733\n",
      "\n",
      "   micro avg       0.75      0.75      0.75      3164\n",
      "   macro avg       0.70      0.64      0.66      3164\n",
      "weighted avg       0.74      0.75      0.74      3164\n",
      "\n"
     ]
    }
   ],
   "source": [
    "print(classification_report(y_test,y_pred_test))"
   ]
  },
  {
   "cell_type": "code",
   "execution_count": 9,
   "metadata": {},
   "outputs": [],
   "source": [
    "type_labels = ['1','2','0','-1']"
   ]
  }
 ],
 "metadata": {
  "kernelspec": {
   "display_name": "Python 3",
   "language": "python",
   "name": "python3"
  },
  "language_info": {
   "codemirror_mode": {
    "name": "ipython",
    "version": 3
   },
   "file_extension": ".py",
   "mimetype": "text/x-python",
   "name": "python",
   "nbconvert_exporter": "python",
   "pygments_lexer": "ipython3",
   "version": "3.7.7"
  }
 },
 "nbformat": 4,
 "nbformat_minor": 4
}
